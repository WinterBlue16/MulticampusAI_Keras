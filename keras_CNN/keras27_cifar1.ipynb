{
  "nbformat": 4,
  "nbformat_minor": 0,
  "metadata": {
    "colab": {
      "name": "keras27_cifar1.ipynb",
      "provenance": [],
      "authorship_tag": "ABX9TyPUdiju2WE36WGtZ1UbsdRo",
      "include_colab_link": true
    },
    "kernelspec": {
      "name": "python3",
      "display_name": "Python 3"
    },
    "accelerator": "TPU"
  },
  "cells": [
    {
      "cell_type": "markdown",
      "metadata": {
        "id": "view-in-github",
        "colab_type": "text"
      },
      "source": [
        "<a href=\"https://colab.research.google.com/github/WinterBlue16/keras/blob/master/keras27_cifar1.ipynb\" target=\"_parent\"><img src=\"https://colab.research.google.com/assets/colab-badge.svg\" alt=\"Open In Colab\"/></a>"
      ]
    },
    {
      "cell_type": "code",
      "metadata": {
        "id": "lVHMWnvFSiG8",
        "colab_type": "code",
        "colab": {}
      },
      "source": [
        "from keras.datasets import cifar10"
      ],
      "execution_count": 0,
      "outputs": []
    },
    {
      "cell_type": "code",
      "metadata": {
        "id": "Kj_pdSlwSsob",
        "colab_type": "code",
        "colab": {
          "base_uri": "https://localhost:8080/",
          "height": 89
        },
        "outputId": "fb93de93-bb1a-41d9-ff3e-42794c2e7f40"
      },
      "source": [
        "from keras.models import Sequential \n",
        "from keras.layers import Dense, Flatten, LSTM, Conv2D, MaxPooling2D, Reshape\n",
        "from keras.callbacks import EarlyStopping \n",
        "import numpy as np\n",
        "\n",
        "# 1. 데이터 불러오기\n",
        "(x_train, y_train), (x_test, y_test) = cifar10.load_data()\n",
        "# print(x_train)\n",
        "# print(y_train)\n",
        "print(x_train.shape)\n",
        "print(y_train.shape)"
      ],
      "execution_count": 4,
      "outputs": [
        {
          "output_type": "stream",
          "text": [
            "Downloading data from https://www.cs.toronto.edu/~kriz/cifar-10-python.tar.gz\n",
            "170500096/170498071 [==============================] - 2s 0us/step\n",
            "(50000, 32, 32, 3)\n",
            "(50000, 1)\n"
          ],
          "name": "stdout"
        }
      ]
    },
    {
      "cell_type": "code",
      "metadata": {
        "id": "OtPuEgtmS7cU",
        "colab_type": "code",
        "colab": {
          "base_uri": "https://localhost:8080/",
          "height": 35
        },
        "outputId": "15e77484-3692-4bab-df4a-b34d0e087e2e"
      },
      "source": [
        "# 2. 데이터 전처리\n",
        "x_train = x_train.reshape(x_train.shape[0], 32, 32, 3).astype('float32')/255\n",
        "x_test = x_test.reshape(x_test.shape[0], 32, 32, 3).astype('float32')/255\n",
        "\n",
        "# print(type(x_train))\n",
        "\n",
        "# 2-1. One-hot-Encoding\n",
        "# softmax를 적용하기 위한 필수적인 과정\n",
        "from keras.utils import np_utils\n",
        "y_train = np_utils.to_categorical(y_train)\n",
        "y_test = np_utils.to_categorical(y_test)\n",
        "\n",
        "print(y_train.shape) # 분류 클래스 개수만큼 생성\n"
      ],
      "execution_count": 5,
      "outputs": [
        {
          "output_type": "stream",
          "text": [
            "(50000, 10)\n"
          ],
          "name": "stdout"
        }
      ]
    },
    {
      "cell_type": "code",
      "metadata": {
        "id": "Yp_K2A3VS9Pb",
        "colab_type": "code",
        "colab": {
          "base_uri": "https://localhost:8080/",
          "height": 485
        },
        "outputId": "8d90243a-88fd-440a-a653-aceb282a441f"
      },
      "source": [
        "# 3. model 만들기\n",
        "model = Sequential()\n",
        "model.add(Conv2D(10, (2, 2), padding='same', input_shape=(32, 32, 3)))\n",
        "model.add(MaxPooling2D(2, 2))\n",
        "model.add(Flatten())\n",
        "model.add(Dense(32))\n",
        "model.add(Dense(10, activation='softmax'))# activation은 add()가 아닌 Dense()에 포함되어 있다!\n",
        "\n",
        "model.summary()"
      ],
      "execution_count": 6,
      "outputs": [
        {
          "output_type": "stream",
          "text": [
            "WARNING:tensorflow:From /usr/local/lib/python3.6/dist-packages/keras/backend/tensorflow_backend.py:66: The name tf.get_default_graph is deprecated. Please use tf.compat.v1.get_default_graph instead.\n",
            "\n",
            "WARNING:tensorflow:From /usr/local/lib/python3.6/dist-packages/keras/backend/tensorflow_backend.py:541: The name tf.placeholder is deprecated. Please use tf.compat.v1.placeholder instead.\n",
            "\n",
            "WARNING:tensorflow:From /usr/local/lib/python3.6/dist-packages/keras/backend/tensorflow_backend.py:4432: The name tf.random_uniform is deprecated. Please use tf.random.uniform instead.\n",
            "\n",
            "WARNING:tensorflow:From /usr/local/lib/python3.6/dist-packages/keras/backend/tensorflow_backend.py:4267: The name tf.nn.max_pool is deprecated. Please use tf.nn.max_pool2d instead.\n",
            "\n",
            "Model: \"sequential_1\"\n",
            "_________________________________________________________________\n",
            "Layer (type)                 Output Shape              Param #   \n",
            "=================================================================\n",
            "conv2d_1 (Conv2D)            (None, 32, 32, 10)        130       \n",
            "_________________________________________________________________\n",
            "max_pooling2d_1 (MaxPooling2 (None, 16, 16, 10)        0         \n",
            "_________________________________________________________________\n",
            "flatten_1 (Flatten)          (None, 2560)              0         \n",
            "_________________________________________________________________\n",
            "dense_1 (Dense)              (None, 32)                81952     \n",
            "_________________________________________________________________\n",
            "dense_2 (Dense)              (None, 10)                330       \n",
            "=================================================================\n",
            "Total params: 82,412\n",
            "Trainable params: 82,412\n",
            "Non-trainable params: 0\n",
            "_________________________________________________________________\n"
          ],
          "name": "stdout"
        }
      ]
    },
    {
      "cell_type": "code",
      "metadata": {
        "id": "8uRnKWU-TBAT",
        "colab_type": "code",
        "colab": {
          "base_uri": "https://localhost:8080/",
          "height": 449
        },
        "outputId": "7f025b91-80aa-4662-f6bf-44bdc910da66"
      },
      "source": [
        "# 4. Model 훈련하기\n",
        "model.compile(loss='categorical_crossentropy',\n",
        "              optimizer='adam',\n",
        "              metrics=['accuracy'])\n",
        "early_stopping = EarlyStopping(monitor='loss', patience=20)\n",
        "hist = model.fit(x_train, y_train, validation_split=0.2, \n",
        "          epochs=10, batch_size=8, verbose=1,\n",
        "          callbacks=[early_stopping])\n",
        "\n",
        "acc = model.evaluate(x_test, y_test)\n",
        "print(acc)\n",
        "print(hist.history.keys())"
      ],
      "execution_count": 8,
      "outputs": [
        {
          "output_type": "stream",
          "text": [
            "Train on 40000 samples, validate on 10000 samples\n",
            "Epoch 1/10\n",
            "40000/40000 [==============================] - 43s 1ms/step - loss: 1.0945 - acc: 0.6199 - val_loss: 1.2865 - val_acc: 0.5588\n",
            "Epoch 2/10\n",
            "40000/40000 [==============================] - 41s 1ms/step - loss: 1.0790 - acc: 0.6304 - val_loss: 1.2903 - val_acc: 0.5709\n",
            "Epoch 3/10\n",
            "40000/40000 [==============================] - 40s 995us/step - loss: 1.0719 - acc: 0.6311 - val_loss: 1.2751 - val_acc: 0.5679\n",
            "Epoch 4/10\n",
            "40000/40000 [==============================] - 40s 1ms/step - loss: 1.0642 - acc: 0.6314 - val_loss: 1.2700 - val_acc: 0.5722\n",
            "Epoch 5/10\n",
            "40000/40000 [==============================] - 39s 975us/step - loss: 1.0536 - acc: 0.6353 - val_loss: 1.2871 - val_acc: 0.5644\n",
            "Epoch 6/10\n",
            "40000/40000 [==============================] - 38s 950us/step - loss: 1.0445 - acc: 0.6410 - val_loss: 1.2799 - val_acc: 0.5757\n",
            "Epoch 7/10\n",
            "40000/40000 [==============================] - 39s 973us/step - loss: 1.0350 - acc: 0.6409 - val_loss: 1.2941 - val_acc: 0.5600\n",
            "Epoch 8/10\n",
            "40000/40000 [==============================] - 40s 994us/step - loss: 1.0297 - acc: 0.6466 - val_loss: 1.2934 - val_acc: 0.5667\n",
            "Epoch 9/10\n",
            "40000/40000 [==============================] - 41s 1ms/step - loss: 1.0266 - acc: 0.6441 - val_loss: 1.2914 - val_acc: 0.5746\n",
            "Epoch 10/10\n",
            "40000/40000 [==============================] - 40s 994us/step - loss: 1.0200 - acc: 0.6491 - val_loss: 1.2675 - val_acc: 0.5732\n",
            "10000/10000 [==============================] - 3s 250us/step\n",
            "[1.262138879966736, 0.5655]\n",
            "dict_keys(['val_loss', 'val_acc', 'loss', 'acc'])\n"
          ],
          "name": "stdout"
        }
      ]
    },
    {
      "cell_type": "code",
      "metadata": {
        "id": "czizf5FBXTO_",
        "colab_type": "code",
        "colab": {
          "base_uri": "https://localhost:8080/",
          "height": 295
        },
        "outputId": "8930913e-602c-40dc-ee6f-996e1a77618f"
      },
      "source": [
        "import matplotlib.pyplot as plt\n",
        "\n",
        "plt.plot(hist.history['loss'])\n",
        "plt.plot(hist.history['val_loss'])\n",
        "plt.plot(hist.history['acc'])\n",
        "plt.plot(hist.history['val_acc'])\n",
        "plt.title('cifar10 CNN loss, acc')\n",
        "plt.xlabel('epoch')\n",
        "plt.ylabel('loss, acc')\n",
        "plt.legend(['train loss', 'test loss', 'train loss', 'test acc'])\n",
        "plt.show()"
      ],
      "execution_count": 9,
      "outputs": [
        {
          "output_type": "display_data",
          "data": {
            "image/png": "[encoded data removed]",
            "text/plain": [
              "<Figure size 432x288 with 1 Axes>"
            ]
          },
          "metadata": {
            "tags": []
          }
        }
      ]
    },
    {
      "cell_type": "code",
      "metadata": {
        "id": "IVlRexU8ZNo9",
        "colab_type": "code",
        "colab": {}
      },
      "source": [
        ""
      ],
      "execution_count": 0,
      "outputs": []
    }
  ]
}