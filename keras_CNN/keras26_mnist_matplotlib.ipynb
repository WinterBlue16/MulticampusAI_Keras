{
  "nbformat": 4,
  "nbformat_minor": 0,
  "metadata": {
    "colab": {
      "name": "keras26_mnist_matplotlib.ipynb",
      "provenance": [],
      "authorship_tag": "ABX9TyPjuWkpxe1SIL8EwfC5skYH",
      "include_colab_link": true
    },
    "kernelspec": {
      "name": "python3",
      "display_name": "Python 3"
    },
    "accelerator": "GPU"
  },
  "cells": [
    {
      "cell_type": "markdown",
      "metadata": {
        "id": "view-in-github",
        "colab_type": "text"
      },
      "source": [
        "<a href=\"https://colab.research.google.com/github/WinterBlue16/keras/blob/master/keras26_mnist_matplotlib.ipynb\" target=\"_parent\"><img src=\"https://colab.research.google.com/assets/colab-badge.svg\" alt=\"Open In Colab\"/></a>"
      ]
    },
    {
      "cell_type": "code",
      "metadata": {
        "id": "OdQXmXUxNx_q",
        "colab_type": "code",
        "colab": {
          "base_uri": "https://localhost:8080/",
          "height": 1000
        },
        "outputId": "c644330b-c276-40e2-a0a2-3abfb2c21781"
      },
      "source": [
        "# CNN을 이용한 MNIST 분류\n",
        "\n",
        "from keras.datasets import mnist\n",
        "from keras.models import Sequential \n",
        "from keras.layers import Dense, Flatten, MaxPooling2D\n",
        "from keras.callbacks import EarlyStopping \n",
        "import numpy as np\n",
        "\n",
        "# 1. 데이터 불러오기\n",
        "(x_train, y_train), (x_test, y_test) = mnist.load_data()\n",
        "# print(x_train)\n",
        "# print(y_train)\n",
        "print(x_train.shape)\n",
        "print(y_train.shape)\n",
        "\n",
        "# 2. 데이터 전처리\n",
        "x_train = x_train.reshape(x_train.shape[0],-1).astype('float32')/255\n",
        "x_test = x_test.reshape(x_test.shape[0],-1).astype('float32')/255\n",
        "\n",
        "# print(type(x_train))\n",
        "\n",
        "# 2-1. One-hot-Encoding\n",
        "# softmax를 적용하기 위한 필수적인 과정\n",
        "from keras.utils import np_utils\n",
        "y_train = np_utils.to_categorical(y_train)\n",
        "y_test = np_utils.to_categorical(y_test)\n",
        "\n",
        "print(y_train.shape) # 분류 클래스 개수만큼 생성\n",
        "\n",
        "# 3. model 만들기\n",
        "model = Sequential()\n",
        "model.add(Dense(128, input_shape=(784,)))# activation은 add()가 아닌 Dense()에 포함되어 있다!\n",
        "model.add(Dense(32))\n",
        "model.add(Dense(32))\n",
        "model.add(Dense(32))\n",
        "model.add(Dense(10, activation='softmax'))# activation은 add()가 아닌 Dense()에 포함되어 있다!\n",
        "\n",
        "model.summary()\n",
        "\n",
        "# 4. Model 훈련하기\n",
        "model.compile(loss='categorical_crossentropy',\n",
        "              optimizer='adam',\n",
        "              metrics=['accuracy'])\n",
        "early_stopping = EarlyStopping(monitor='loss', patience=20)\n",
        "hist = model.fit(x_train, y_train, validation_split=0.2, \n",
        "          epochs=10, batch_size=8, verbose=1,\n",
        "          callbacks=[early_stopping])\n",
        "\n",
        "print(hist.history.keys())\n",
        "\n",
        "acc = model.evaluate(x_test, y_test)\n",
        "# print(acc)\n",
        "\n"
      ],
      "execution_count": 1,
      "outputs": [
        {
          "output_type": "stream",
          "text": [
            "Using TensorFlow backend.\n"
          ],
          "name": "stderr"
        },
        {
          "output_type": "display_data",
          "data": {
            "text/html": [
              "<p style=\"color: red;\">\n",
              "The default version of TensorFlow in Colab will soon switch to TensorFlow 2.x.<br>\n",
              "We recommend you <a href=\"https://www.tensorflow.org/guide/migrate\" target=\"_blank\">upgrade</a> now \n",
              "or ensure your notebook will continue to use TensorFlow 1.x via the <code>%tensorflow_version 1.x</code> magic:\n",
              "<a href=\"https://colab.research.google.com/notebooks/tensorflow_version.ipynb\" target=\"_blank\">more info</a>.</p>\n"
            ],
            "text/plain": [
              "<IPython.core.display.HTML object>"
            ]
          },
          "metadata": {
            "tags": []
          }
        },
        {
          "output_type": "stream",
          "text": [
            "Downloading data from https://s3.amazonaws.com/img-datasets/mnist.npz\n",
            "11493376/11490434 [==============================] - 0s 0us/step\n",
            "(60000, 28, 28)\n",
            "(60000,)\n",
            "(60000, 10)\n",
            "WARNING:tensorflow:From /usr/local/lib/python3.6/dist-packages/keras/backend/tensorflow_backend.py:66: The name tf.get_default_graph is deprecated. Please use tf.compat.v1.get_default_graph instead.\n",
            "\n",
            "WARNING:tensorflow:From /usr/local/lib/python3.6/dist-packages/keras/backend/tensorflow_backend.py:541: The name tf.placeholder is deprecated. Please use tf.compat.v1.placeholder instead.\n",
            "\n",
            "WARNING:tensorflow:From /usr/local/lib/python3.6/dist-packages/keras/backend/tensorflow_backend.py:4432: The name tf.random_uniform is deprecated. Please use tf.random.uniform instead.\n",
            "\n",
            "Model: \"sequential_1\"\n",
            "_________________________________________________________________\n",
            "Layer (type)                 Output Shape              Param #   \n",
            "=================================================================\n",
            "dense_1 (Dense)              (None, 128)               100480    \n",
            "_________________________________________________________________\n",
            "dense_2 (Dense)              (None, 32)                4128      \n",
            "_________________________________________________________________\n",
            "dense_3 (Dense)              (None, 32)                1056      \n",
            "_________________________________________________________________\n",
            "dense_4 (Dense)              (None, 32)                1056      \n",
            "_________________________________________________________________\n",
            "dense_5 (Dense)              (None, 10)                330       \n",
            "=================================================================\n",
            "Total params: 107,050\n",
            "Trainable params: 107,050\n",
            "Non-trainable params: 0\n",
            "_________________________________________________________________\n",
            "WARNING:tensorflow:From /usr/local/lib/python3.6/dist-packages/keras/optimizers.py:793: The name tf.train.Optimizer is deprecated. Please use tf.compat.v1.train.Optimizer instead.\n",
            "\n",
            "WARNING:tensorflow:From /usr/local/lib/python3.6/dist-packages/keras/backend/tensorflow_backend.py:3576: The name tf.log is deprecated. Please use tf.math.log instead.\n",
            "\n",
            "WARNING:tensorflow:From /usr/local/lib/python3.6/dist-packages/tensorflow_core/python/ops/math_grad.py:1424: where (from tensorflow.python.ops.array_ops) is deprecated and will be removed in a future version.\n",
            "Instructions for updating:\n",
            "Use tf.where in 2.0, which has the same broadcast rule as np.where\n",
            "WARNING:tensorflow:From /usr/local/lib/python3.6/dist-packages/keras/backend/tensorflow_backend.py:1033: The name tf.assign_add is deprecated. Please use tf.compat.v1.assign_add instead.\n",
            "\n",
            "WARNING:tensorflow:From /usr/local/lib/python3.6/dist-packages/keras/backend/tensorflow_backend.py:1020: The name tf.assign is deprecated. Please use tf.compat.v1.assign instead.\n",
            "\n",
            "WARNING:tensorflow:From /usr/local/lib/python3.6/dist-packages/keras/backend/tensorflow_backend.py:3005: The name tf.Session is deprecated. Please use tf.compat.v1.Session instead.\n",
            "\n",
            "Train on 48000 samples, validate on 12000 samples\n",
            "Epoch 1/10\n",
            "WARNING:tensorflow:From /usr/local/lib/python3.6/dist-packages/keras/backend/tensorflow_backend.py:190: The name tf.get_default_session is deprecated. Please use tf.compat.v1.get_default_session instead.\n",
            "\n",
            "WARNING:tensorflow:From /usr/local/lib/python3.6/dist-packages/keras/backend/tensorflow_backend.py:197: The name tf.ConfigProto is deprecated. Please use tf.compat.v1.ConfigProto instead.\n",
            "\n",
            "WARNING:tensorflow:From /usr/local/lib/python3.6/dist-packages/keras/backend/tensorflow_backend.py:207: The name tf.global_variables is deprecated. Please use tf.compat.v1.global_variables instead.\n",
            "\n",
            "WARNING:tensorflow:From /usr/local/lib/python3.6/dist-packages/keras/backend/tensorflow_backend.py:216: The name tf.is_variable_initialized is deprecated. Please use tf.compat.v1.is_variable_initialized instead.\n",
            "\n",
            "WARNING:tensorflow:From /usr/local/lib/python3.6/dist-packages/keras/backend/tensorflow_backend.py:223: The name tf.variables_initializer is deprecated. Please use tf.compat.v1.variables_initializer instead.\n",
            "\n",
            "48000/48000 [==============================] - 40s 840us/step - loss: 0.4253 - acc: 0.8756 - val_loss: 0.3461 - val_acc: 0.9012\n",
            "Epoch 2/10\n",
            "48000/48000 [==============================] - 31s 645us/step - loss: 0.3622 - acc: 0.8955 - val_loss: 0.3179 - val_acc: 0.9110\n",
            "Epoch 3/10\n",
            "48000/48000 [==============================] - 29s 602us/step - loss: 0.3452 - acc: 0.9023 - val_loss: 0.3177 - val_acc: 0.9069\n",
            "Epoch 4/10\n",
            "48000/48000 [==============================] - 29s 603us/step - loss: 0.3277 - acc: 0.9062 - val_loss: 0.3077 - val_acc: 0.9125\n",
            "Epoch 5/10\n",
            "48000/48000 [==============================] - 31s 637us/step - loss: 0.3214 - acc: 0.9076 - val_loss: 0.2954 - val_acc: 0.9173\n",
            "Epoch 6/10\n",
            "48000/48000 [==============================] - 31s 637us/step - loss: 0.3135 - acc: 0.9106 - val_loss: 0.2934 - val_acc: 0.9214\n",
            "Epoch 7/10\n",
            "48000/48000 [==============================] - 30s 620us/step - loss: 0.3080 - acc: 0.9119 - val_loss: 0.3173 - val_acc: 0.9086\n",
            "Epoch 8/10\n",
            "48000/48000 [==============================] - 28s 589us/step - loss: 0.3030 - acc: 0.9139 - val_loss: 0.3192 - val_acc: 0.9143\n",
            "Epoch 9/10\n",
            "48000/48000 [==============================] - 30s 615us/step - loss: 0.2988 - acc: 0.9150 - val_loss: 0.2980 - val_acc: 0.9170\n",
            "Epoch 10/10\n",
            "48000/48000 [==============================] - 29s 613us/step - loss: 0.2966 - acc: 0.9162 - val_loss: 0.3225 - val_acc: 0.9053\n",
            "dict_keys(['val_loss', 'val_acc', 'loss', 'acc'])\n",
            "10000/10000 [==============================] - 0s 44us/step\n"
          ],
          "name": "stdout"
        }
      ]
    },
    {
      "cell_type": "code",
      "metadata": {
        "id": "Rd-hjze4NzEj",
        "colab_type": "code",
        "colab": {
          "base_uri": "https://localhost:8080/",
          "height": 295
        },
        "outputId": "cbfda203-f20a-41b8-eff1-1a22e4992413"
      },
      "source": [
        "import matplotlib.pyplot as plt\n",
        "\n",
        "plt.plot(hist.history['loss'])\n",
        "plt.plot(hist.history['val_loss'])\n",
        "plt.plot(hist.history['acc'])\n",
        "plt.plot(hist.history['val_acc'])\n",
        "plt.title('model loss, acc')\n",
        "plt.xlabel('epoch')\n",
        "plt.ylabel('loss, acc')\n",
        "plt.legend(['train loss', 'test loss', 'train loss', 'test acc'])\n",
        "plt.show()"
      ],
      "execution_count": 2,
      "outputs": [
        {
          "output_type": "display_data",
          "data": {
            "image/png": "[encoded data removed]",
            "text/plain": [
              "<Figure size 432x288 with 1 Axes>"
            ]
          },
          "metadata": {
            "tags": []
          }
        }
      ]
    },
    {
      "cell_type": "code",
      "metadata": {
        "id": "3DpuGb1fOomN",
        "colab_type": "code",
        "colab": {}
      },
      "source": [
        ""
      ],
      "execution_count": 0,
      "outputs": []
    }
  ]
}