{
  "nbformat": 4,
  "nbformat_minor": 0,
  "metadata": {
    "colab": {
      "name": "keras26_mnist.ipynb",
      "provenance": [],
      "collapsed_sections": [],
      "authorship_tag": "ABX9TyPF5U41y53lDRYIKMtVFzNm",
      "include_colab_link": true
    },
    "kernelspec": {
      "name": "python3",
      "display_name": "Python 3"
    },
    "accelerator": "GPU"
  },
  "cells": [
    {
      "cell_type": "markdown",
      "metadata": {
        "id": "view-in-github",
        "colab_type": "text"
      },
      "source": [
        "<a href=\"https://colab.research.google.com/github/WinterBlue16/keras/blob/master/keras26_mnist.ipynb\" target=\"_parent\"><img src=\"https://colab.research.google.com/assets/colab-badge.svg\" alt=\"Open In Colab\"/></a>"
      ]
    },
    {
      "cell_type": "code",
      "metadata": {
        "id": "gL40mxbVjYVr",
        "colab_type": "code",
        "colab": {
          "base_uri": "https://localhost:8080/",
          "height": 82
        },
        "outputId": "86483120-a8d4-4210-bd4c-828a5c72e5ce"
      },
      "source": [
        "# CNN을 이용한 MNIST 분류\n",
        "\n",
        "from keras.datasets import mnist\n",
        "from keras.models import Sequential \n",
        "from keras.layers import Conv2D, Dense, Flatten, MaxPooling2D\n",
        "from keras.callbacks import EarlyStopping \n",
        "import numpy as np\n"
      ],
      "execution_count": 1,
      "outputs": [
        {
          "output_type": "stream",
          "text": [
            "Using TensorFlow backend.\n"
          ],
          "name": "stderr"
        },
        {
          "output_type": "display_data",
          "data": {
            "text/html": [
              "<p style=\"color: red;\">\n",
              "The default version of TensorFlow in Colab will soon switch to TensorFlow 2.x.<br>\n",
              "We recommend you <a href=\"https://www.tensorflow.org/guide/migrate\" target=\"_blank\">upgrade</a> now \n",
              "or ensure your notebook will continue to use TensorFlow 1.x via the <code>%tensorflow_version 1.x</code> magic:\n",
              "<a href=\"https://colab.research.google.com/notebooks/tensorflow_version.ipynb\" target=\"_blank\">more info</a>.</p>\n"
            ],
            "text/plain": [
              "<IPython.core.display.HTML object>"
            ]
          },
          "metadata": {
            "tags": []
          }
        }
      ]
    },
    {
      "cell_type": "code",
      "metadata": {
        "id": "4ZJY_cLekPYr",
        "colab_type": "code",
        "colab": {
          "base_uri": "https://localhost:8080/",
          "height": 89
        },
        "outputId": "c4bef906-9332-41f2-f3aa-bb18e4ece733"
      },
      "source": [
        "# 1. 데이터 불러오기\n",
        "(x_train, y_train), (x_test, y_test) = mnist.load_data()\n",
        "# print(x_train)\n",
        "# print(y_train)\n",
        "print(x_train.shape)\n",
        "print(y_train.shape)"
      ],
      "execution_count": 2,
      "outputs": [
        {
          "output_type": "stream",
          "text": [
            "Downloading data from https://s3.amazonaws.com/img-datasets/mnist.npz\n",
            "11493376/11490434 [==============================] - 0s 0us/step\n",
            "(60000, 28, 28)\n",
            "(60000,)\n"
          ],
          "name": "stdout"
        }
      ]
    },
    {
      "cell_type": "code",
      "metadata": {
        "id": "nwebNzvAkhDi",
        "colab_type": "code",
        "colab": {}
      },
      "source": [
        "# 2. 데이터 전처리\n",
        "x_train = x_train.reshape(x_train.shape[0], 28, 28, 1).astype('float32')/255\n",
        "x_test = x_test.reshape(x_test.shape[0], 28, 28, 1).astype('float32')/255\n",
        "\n",
        "# print(type(x_train))"
      ],
      "execution_count": 0,
      "outputs": []
    },
    {
      "cell_type": "code",
      "metadata": {
        "id": "5rEYrNVfmYDL",
        "colab_type": "code",
        "colab": {
          "base_uri": "https://localhost:8080/",
          "height": 35
        },
        "outputId": "9194c976-451a-44f9-f545-6d727874fa0b"
      },
      "source": [
        "# 2-1. One-hot-Encoding\n",
        "# softmax를 적용하기 위한 필수적인 과정\n",
        "from keras.utils import np_utils\n",
        "y_train = np_utils.to_categorical(y_train)\n",
        "y_test = np_utils.to_categorical(y_test)\n",
        "\n",
        "print(y_train.shape) # 분류 클래스 개수만큼 생성"
      ],
      "execution_count": 4,
      "outputs": [
        {
          "output_type": "stream",
          "text": [
            "(60000, 10)\n"
          ],
          "name": "stdout"
        }
      ]
    },
    {
      "cell_type": "code",
      "metadata": {
        "id": "16DcUN8EnO_k",
        "colab_type": "code",
        "colab": {
          "base_uri": "https://localhost:8080/",
          "height": 485
        },
        "outputId": "fa2a020b-ed98-4bed-ed01-e14aa2e6ea5b"
      },
      "source": [
        "# 3. model 만들기\n",
        "model = Sequential()\n",
        "\n",
        "model.add(Conv2D(32, (2, 2), padding='same', \n",
        "                 input_shape=(28, 28, 1), strides=1)) # stride가 이미지 크기와 맞아떨어지지 않을 경우 맞는 부분만 계산(ex> (5, 5) => (2, 2))\n",
        "model.add(Conv2D(32, (2, 2))) # Kernel의 크기는 input의 크기보다 작아야 한다!(같으면 안됨)\n",
        "model.add(MaxPooling2D(2, 2))# MaxPooling은 최댓값이 겹치지 않도록(중요) stride를 알아서 조절해 데이터를 축소한다!(통상적으로 절반 ex> (6, 6) => (3, 3))\n",
        "model.add(Flatten())\n",
        "model.add(Dense(10, activation='softmax'))# activation은 add()가 아닌 Dense()에 포함되어 있다!\n",
        "\n",
        "model.summary()"
      ],
      "execution_count": 5,
      "outputs": [
        {
          "output_type": "stream",
          "text": [
            "WARNING:tensorflow:From /usr/local/lib/python3.6/dist-packages/keras/backend/tensorflow_backend.py:66: The name tf.get_default_graph is deprecated. Please use tf.compat.v1.get_default_graph instead.\n",
            "\n",
            "WARNING:tensorflow:From /usr/local/lib/python3.6/dist-packages/keras/backend/tensorflow_backend.py:541: The name tf.placeholder is deprecated. Please use tf.compat.v1.placeholder instead.\n",
            "\n",
            "WARNING:tensorflow:From /usr/local/lib/python3.6/dist-packages/keras/backend/tensorflow_backend.py:4432: The name tf.random_uniform is deprecated. Please use tf.random.uniform instead.\n",
            "\n",
            "WARNING:tensorflow:From /usr/local/lib/python3.6/dist-packages/keras/backend/tensorflow_backend.py:4267: The name tf.nn.max_pool is deprecated. Please use tf.nn.max_pool2d instead.\n",
            "\n",
            "Model: \"sequential_1\"\n",
            "_________________________________________________________________\n",
            "Layer (type)                 Output Shape              Param #   \n",
            "=================================================================\n",
            "conv2d_1 (Conv2D)            (None, 28, 28, 32)        160       \n",
            "_________________________________________________________________\n",
            "conv2d_2 (Conv2D)            (None, 27, 27, 32)        4128      \n",
            "_________________________________________________________________\n",
            "max_pooling2d_1 (MaxPooling2 (None, 13, 13, 32)        0         \n",
            "_________________________________________________________________\n",
            "flatten_1 (Flatten)          (None, 5408)              0         \n",
            "_________________________________________________________________\n",
            "dense_1 (Dense)              (None, 10)                54090     \n",
            "=================================================================\n",
            "Total params: 58,378\n",
            "Trainable params: 58,378\n",
            "Non-trainable params: 0\n",
            "_________________________________________________________________\n"
          ],
          "name": "stdout"
        }
      ]
    },
    {
      "cell_type": "code",
      "metadata": {
        "id": "ypB_Wtm4phBt",
        "colab_type": "code",
        "colab": {
          "base_uri": "https://localhost:8080/",
          "height": 1000
        },
        "outputId": "cf534c13-19c6-4754-8297-e95758a96cca"
      },
      "source": [
        "# 4. Model 훈련하기\n",
        "model.compile(loss='categorical_crossentropy',\n",
        "              optimizer='adam',\n",
        "              metrics=['accuracy'])\n",
        "early_stopping = EarlyStopping(monitor='loss', patience=20)\n",
        "model.fit(x_train, y_train, validation_split=0.2, \n",
        "          epochs=100, batch_size=8, verbose=1,\n",
        "          callbacks=[early_stopping])\n",
        "\n",
        "acc = model.evaluate(x_test, y_test)\n",
        "print(acc)"
      ],
      "execution_count": 6,
      "outputs": [
        {
          "output_type": "stream",
          "text": [
            "WARNING:tensorflow:From /usr/local/lib/python3.6/dist-packages/keras/optimizers.py:793: The name tf.train.Optimizer is deprecated. Please use tf.compat.v1.train.Optimizer instead.\n",
            "\n",
            "WARNING:tensorflow:From /usr/local/lib/python3.6/dist-packages/keras/backend/tensorflow_backend.py:3576: The name tf.log is deprecated. Please use tf.math.log instead.\n",
            "\n",
            "WARNING:tensorflow:From /usr/local/lib/python3.6/dist-packages/tensorflow_core/python/ops/math_grad.py:1424: where (from tensorflow.python.ops.array_ops) is deprecated and will be removed in a future version.\n",
            "Instructions for updating:\n",
            "Use tf.where in 2.0, which has the same broadcast rule as np.where\n",
            "WARNING:tensorflow:From /usr/local/lib/python3.6/dist-packages/keras/backend/tensorflow_backend.py:1033: The name tf.assign_add is deprecated. Please use tf.compat.v1.assign_add instead.\n",
            "\n",
            "WARNING:tensorflow:From /usr/local/lib/python3.6/dist-packages/keras/backend/tensorflow_backend.py:1020: The name tf.assign is deprecated. Please use tf.compat.v1.assign instead.\n",
            "\n",
            "WARNING:tensorflow:From /usr/local/lib/python3.6/dist-packages/keras/backend/tensorflow_backend.py:3005: The name tf.Session is deprecated. Please use tf.compat.v1.Session instead.\n",
            "\n",
            "Train on 48000 samples, validate on 12000 samples\n",
            "Epoch 1/100\n",
            "WARNING:tensorflow:From /usr/local/lib/python3.6/dist-packages/keras/backend/tensorflow_backend.py:190: The name tf.get_default_session is deprecated. Please use tf.compat.v1.get_default_session instead.\n",
            "\n",
            "WARNING:tensorflow:From /usr/local/lib/python3.6/dist-packages/keras/backend/tensorflow_backend.py:197: The name tf.ConfigProto is deprecated. Please use tf.compat.v1.ConfigProto instead.\n",
            "\n",
            "WARNING:tensorflow:From /usr/local/lib/python3.6/dist-packages/keras/backend/tensorflow_backend.py:207: The name tf.global_variables is deprecated. Please use tf.compat.v1.global_variables instead.\n",
            "\n",
            "WARNING:tensorflow:From /usr/local/lib/python3.6/dist-packages/keras/backend/tensorflow_backend.py:216: The name tf.is_variable_initialized is deprecated. Please use tf.compat.v1.is_variable_initialized instead.\n",
            "\n",
            "WARNING:tensorflow:From /usr/local/lib/python3.6/dist-packages/keras/backend/tensorflow_backend.py:223: The name tf.variables_initializer is deprecated. Please use tf.compat.v1.variables_initializer instead.\n",
            "\n",
            "48000/48000 [==============================] - 41s 847us/step - loss: 0.1933 - acc: 0.9427 - val_loss: 0.1229 - val_acc: 0.9653\n",
            "Epoch 2/100\n",
            "48000/48000 [==============================] - 26s 533us/step - loss: 0.0958 - acc: 0.9713 - val_loss: 0.0948 - val_acc: 0.9733\n",
            "Epoch 3/100\n",
            "48000/48000 [==============================] - 25s 520us/step - loss: 0.0755 - acc: 0.9764 - val_loss: 0.0986 - val_acc: 0.9724\n",
            "Epoch 4/100\n",
            "48000/48000 [==============================] - 25s 516us/step - loss: 0.0646 - acc: 0.9792 - val_loss: 0.0946 - val_acc: 0.9746\n",
            "Epoch 5/100\n",
            "48000/48000 [==============================] - 25s 512us/step - loss: 0.0537 - acc: 0.9830 - val_loss: 0.1046 - val_acc: 0.9726\n",
            "Epoch 6/100\n",
            "48000/48000 [==============================] - 25s 527us/step - loss: 0.0483 - acc: 0.9841 - val_loss: 0.1096 - val_acc: 0.9732\n",
            "Epoch 7/100\n",
            "48000/48000 [==============================] - 25s 519us/step - loss: 0.0417 - acc: 0.9853 - val_loss: 0.1313 - val_acc: 0.9708\n",
            "Epoch 8/100\n",
            "48000/48000 [==============================] - 25s 524us/step - loss: 0.0375 - acc: 0.9877 - val_loss: 0.1211 - val_acc: 0.9722\n",
            "Epoch 9/100\n",
            "48000/48000 [==============================] - 25s 519us/step - loss: 0.0334 - acc: 0.9889 - val_loss: 0.1322 - val_acc: 0.9717\n",
            "Epoch 10/100\n",
            "48000/48000 [==============================] - 24s 505us/step - loss: 0.0302 - acc: 0.9901 - val_loss: 0.1436 - val_acc: 0.9718\n",
            "Epoch 11/100\n",
            "48000/48000 [==============================] - 24s 504us/step - loss: 0.0270 - acc: 0.9912 - val_loss: 0.1729 - val_acc: 0.9678\n",
            "Epoch 12/100\n",
            "48000/48000 [==============================] - 25s 524us/step - loss: 0.0265 - acc: 0.9909 - val_loss: 0.1502 - val_acc: 0.9727\n",
            "Epoch 13/100\n",
            "48000/48000 [==============================] - 25s 520us/step - loss: 0.0246 - acc: 0.9920 - val_loss: 0.1660 - val_acc: 0.9712\n",
            "Epoch 14/100\n",
            "48000/48000 [==============================] - 25s 519us/step - loss: 0.0231 - acc: 0.9931 - val_loss: 0.1816 - val_acc: 0.9707\n",
            "Epoch 15/100\n",
            "48000/48000 [==============================] - 25s 516us/step - loss: 0.0219 - acc: 0.9927 - val_loss: 0.1729 - val_acc: 0.9713\n",
            "Epoch 16/100\n",
            "48000/48000 [==============================] - 25s 530us/step - loss: 0.0213 - acc: 0.9933 - val_loss: 0.1864 - val_acc: 0.9718\n",
            "Epoch 17/100\n",
            "48000/48000 [==============================] - 26s 535us/step - loss: 0.0198 - acc: 0.9938 - val_loss: 0.1919 - val_acc: 0.9695\n",
            "Epoch 18/100\n",
            "48000/48000 [==============================] - 25s 530us/step - loss: 0.0183 - acc: 0.9945 - val_loss: 0.1900 - val_acc: 0.9720\n",
            "Epoch 19/100\n",
            "48000/48000 [==============================] - 26s 533us/step - loss: 0.0183 - acc: 0.9940 - val_loss: 0.1994 - val_acc: 0.9708\n",
            "Epoch 20/100\n",
            "48000/48000 [==============================] - 26s 532us/step - loss: 0.0202 - acc: 0.9941 - val_loss: 0.2185 - val_acc: 0.9675\n",
            "Epoch 21/100\n",
            "48000/48000 [==============================] - 27s 553us/step - loss: 0.0173 - acc: 0.9947 - val_loss: 0.1964 - val_acc: 0.9727\n",
            "Epoch 22/100\n",
            "48000/48000 [==============================] - 25s 526us/step - loss: 0.0177 - acc: 0.9945 - val_loss: 0.2141 - val_acc: 0.9702\n",
            "Epoch 23/100\n",
            "48000/48000 [==============================] - 25s 522us/step - loss: 0.0164 - acc: 0.9952 - val_loss: 0.2583 - val_acc: 0.9619\n",
            "Epoch 24/100\n",
            "48000/48000 [==============================] - 25s 525us/step - loss: 0.0169 - acc: 0.9949 - val_loss: 0.2445 - val_acc: 0.9671\n",
            "Epoch 25/100\n",
            "48000/48000 [==============================] - 25s 518us/step - loss: 0.0145 - acc: 0.9955 - val_loss: 0.2273 - val_acc: 0.9697\n",
            "Epoch 26/100\n",
            "48000/48000 [==============================] - 25s 525us/step - loss: 0.0173 - acc: 0.9952 - val_loss: 0.2314 - val_acc: 0.9704\n",
            "Epoch 27/100\n",
            "48000/48000 [==============================] - 25s 514us/step - loss: 0.0145 - acc: 0.9956 - val_loss: 0.2528 - val_acc: 0.9690\n",
            "Epoch 28/100\n",
            "48000/48000 [==============================] - 25s 524us/step - loss: 0.0168 - acc: 0.9957 - val_loss: 0.2311 - val_acc: 0.9693\n",
            "Epoch 29/100\n",
            "48000/48000 [==============================] - 25s 517us/step - loss: 0.0152 - acc: 0.9954 - val_loss: 0.2357 - val_acc: 0.9713\n",
            "Epoch 30/100\n",
            "48000/48000 [==============================] - 25s 517us/step - loss: 0.0133 - acc: 0.9961 - val_loss: 0.2507 - val_acc: 0.9708\n",
            "Epoch 31/100\n",
            "48000/48000 [==============================] - 25s 523us/step - loss: 0.0156 - acc: 0.9960 - val_loss: 0.2385 - val_acc: 0.9714\n",
            "Epoch 32/100\n",
            "48000/48000 [==============================] - 24s 507us/step - loss: 0.0159 - acc: 0.9960 - val_loss: 0.2321 - val_acc: 0.9719\n",
            "Epoch 33/100\n",
            "48000/48000 [==============================] - 25s 529us/step - loss: 0.0120 - acc: 0.9964 - val_loss: 0.2600 - val_acc: 0.9705\n",
            "Epoch 34/100\n",
            "48000/48000 [==============================] - 25s 516us/step - loss: 0.0163 - acc: 0.9961 - val_loss: 0.2456 - val_acc: 0.9712\n",
            "Epoch 35/100\n",
            "48000/48000 [==============================] - 24s 508us/step - loss: 0.0160 - acc: 0.9960 - val_loss: 0.2700 - val_acc: 0.9688\n",
            "Epoch 36/100\n",
            "48000/48000 [==============================] - 25s 514us/step - loss: 0.0139 - acc: 0.9965 - val_loss: 0.2946 - val_acc: 0.9680\n",
            "Epoch 37/100\n",
            "48000/48000 [==============================] - 24s 503us/step - loss: 0.0121 - acc: 0.9968 - val_loss: 0.2719 - val_acc: 0.9710\n",
            "Epoch 38/100\n",
            "48000/48000 [==============================] - 25s 511us/step - loss: 0.0134 - acc: 0.9962 - val_loss: 0.2926 - val_acc: 0.9691\n",
            "Epoch 39/100\n",
            "48000/48000 [==============================] - 24s 503us/step - loss: 0.0149 - acc: 0.9965 - val_loss: 0.2799 - val_acc: 0.9704\n",
            "Epoch 40/100\n",
            "48000/48000 [==============================] - 24s 502us/step - loss: 0.0134 - acc: 0.9969 - val_loss: 0.2856 - val_acc: 0.9693\n",
            "Epoch 41/100\n",
            "48000/48000 [==============================] - 25s 512us/step - loss: 0.0168 - acc: 0.9965 - val_loss: 0.2979 - val_acc: 0.9691\n",
            "Epoch 42/100\n",
            "48000/48000 [==============================] - 24s 504us/step - loss: 0.0126 - acc: 0.9971 - val_loss: 0.2740 - val_acc: 0.9702\n",
            "Epoch 43/100\n",
            "48000/48000 [==============================] - 24s 506us/step - loss: 0.0139 - acc: 0.9968 - val_loss: 0.2850 - val_acc: 0.9712\n",
            "Epoch 44/100\n",
            "48000/48000 [==============================] - 24s 504us/step - loss: 0.0147 - acc: 0.9968 - val_loss: 0.3175 - val_acc: 0.9659\n",
            "Epoch 45/100\n",
            "48000/48000 [==============================] - 24s 498us/step - loss: 0.0114 - acc: 0.9972 - val_loss: 0.2921 - val_acc: 0.9697\n",
            "Epoch 46/100\n",
            "48000/48000 [==============================] - 25s 515us/step - loss: 0.0122 - acc: 0.9972 - val_loss: 0.3050 - val_acc: 0.9695\n",
            "Epoch 47/100\n",
            "48000/48000 [==============================] - 24s 499us/step - loss: 0.0153 - acc: 0.9967 - val_loss: 0.3197 - val_acc: 0.9676\n",
            "Epoch 48/100\n",
            "48000/48000 [==============================] - 24s 507us/step - loss: 0.0159 - acc: 0.9968 - val_loss: 0.3053 - val_acc: 0.9702\n",
            "Epoch 49/100\n",
            "48000/48000 [==============================] - 24s 498us/step - loss: 0.0131 - acc: 0.9972 - val_loss: 0.2865 - val_acc: 0.9721\n",
            "Epoch 50/100\n",
            "48000/48000 [==============================] - 24s 503us/step - loss: 0.0136 - acc: 0.9972 - val_loss: 0.2981 - val_acc: 0.9711\n",
            "Epoch 51/100\n",
            "48000/48000 [==============================] - 24s 507us/step - loss: 0.0121 - acc: 0.9971 - val_loss: 0.3015 - val_acc: 0.9706\n",
            "Epoch 52/100\n",
            "48000/48000 [==============================] - 24s 496us/step - loss: 0.0144 - acc: 0.9973 - val_loss: 0.3071 - val_acc: 0.9706\n",
            "Epoch 53/100\n",
            "48000/48000 [==============================] - 24s 504us/step - loss: 0.0134 - acc: 0.9972 - val_loss: 0.3187 - val_acc: 0.9681\n",
            "Epoch 54/100\n",
            "48000/48000 [==============================] - 24s 500us/step - loss: 0.0136 - acc: 0.9972 - val_loss: 0.3327 - val_acc: 0.9687\n",
            "Epoch 55/100\n",
            "48000/48000 [==============================] - 24s 509us/step - loss: 0.0146 - acc: 0.9974 - val_loss: 0.2919 - val_acc: 0.9722\n",
            "Epoch 56/100\n",
            "48000/48000 [==============================] - 24s 504us/step - loss: 0.0149 - acc: 0.9969 - val_loss: 0.3120 - val_acc: 0.9724\n",
            "Epoch 57/100\n",
            "48000/48000 [==============================] - 24s 497us/step - loss: 0.0135 - acc: 0.9972 - val_loss: 0.3450 - val_acc: 0.9688\n",
            "Epoch 58/100\n",
            "48000/48000 [==============================] - 24s 509us/step - loss: 0.0148 - acc: 0.9974 - val_loss: 0.3192 - val_acc: 0.9708\n",
            "Epoch 59/100\n",
            "48000/48000 [==============================] - 24s 507us/step - loss: 0.0114 - acc: 0.9977 - val_loss: 0.3479 - val_acc: 0.9686\n",
            "Epoch 60/100\n",
            "48000/48000 [==============================] - 24s 502us/step - loss: 0.0143 - acc: 0.9975 - val_loss: 0.3382 - val_acc: 0.9693\n",
            "Epoch 61/100\n",
            "48000/48000 [==============================] - 25s 511us/step - loss: 0.0145 - acc: 0.9974 - val_loss: 0.3598 - val_acc: 0.9663\n",
            "Epoch 62/100\n",
            "48000/48000 [==============================] - 24s 498us/step - loss: 0.0131 - acc: 0.9975 - val_loss: 0.3562 - val_acc: 0.9681\n",
            "Epoch 63/100\n",
            "48000/48000 [==============================] - 24s 506us/step - loss: 0.0148 - acc: 0.9972 - val_loss: 0.3156 - val_acc: 0.9716\n",
            "Epoch 64/100\n",
            "48000/48000 [==============================] - 24s 497us/step - loss: 0.0125 - acc: 0.9974 - val_loss: 0.3428 - val_acc: 0.9705\n",
            "Epoch 65/100\n",
            "48000/48000 [==============================] - 24s 499us/step - loss: 0.0134 - acc: 0.9974 - val_loss: 0.3602 - val_acc: 0.9689\n",
            "10000/10000 [==============================] - 1s 55us/step\n",
            "[0.35637574713577835, 0.9698]\n"
          ],
          "name": "stdout"
        }
      ]
    }
  ]
}